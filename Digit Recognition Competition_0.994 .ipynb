{
 "cells": [
  {
   "cell_type": "markdown",
   "metadata": {},
   "source": [
    "### Hi Hi \n",
    "\n",
    "### This Notebook Content\n",
    "\n",
    "#### 1- Data Preprocessing \n",
    "\n",
    "#### 2- Model Definition (Tried 3 model architectures with the same data augmentation )\n",
    "\n",
    "#### 4- Data Augmentation \n",
    "\n",
    "#### 5- Model Training \n",
    "\n",
    "#### 6- Evaluation -- 0.994 Test_acc\n",
    "\n",
    "#### 7- References \n",
    "\n"
   ]
  },
  {
   "cell_type": "code",
   "execution_count": 1,
   "metadata": {},
   "outputs": [],
   "source": [
    "import pandas as pd\n",
    "import numpy as np\n",
    "import matplotlib.pyplot as plt\n",
    "%matplotlib inline \n",
    "from sklearn.preprocessing import OneHotEncoder,LabelBinarizer\n",
    "from keras import  models\n",
    "from keras.layers import Dense,Conv2D,MaxPool2D,Flatten,Dropout,BatchNormalization\n",
    "import tensorflow as tf\n",
    "from keras.utils import to_categorical\n",
    "from sklearn.model_selection import train_test_split\n",
    "from keras.preprocessing.image import ImageDataGenerator\n",
    "from keras.optimizers import RMSprop\n",
    "from keras.callbacks import EarlyStopping\n",
    "from sklearn.metrics import confusion_matrix\n",
    "from keras.callbacks import ModelCheckpoint\n",
    "import seaborn as sns\n"
   ]
  },
  {
   "cell_type": "markdown",
   "metadata": {},
   "source": [
    "## Data Preprocessing "
   ]
  },
  {
   "cell_type": "code",
   "execution_count": 2,
   "metadata": {},
   "outputs": [
    {
     "name": "stdout",
     "output_type": "stream",
     "text": [
      "number of training examples = 42000\n",
      "number of test examples = 28000\n"
     ]
    }
   ],
   "source": [
    "#Load Data \n",
    "\n",
    "train_data=pd.read_csv(\"train.csv\")\n",
    "test_data=pd.read_csv(\"test.csv\")\n",
    "print (\"number of training examples = \" + str(train_data.shape[0]))\n",
    "print (\"number of test examples = \" + str(test_data.shape[0]))"
   ]
  },
  {
   "cell_type": "code",
   "execution_count": 3,
   "metadata": {},
   "outputs": [
    {
     "name": "stdout",
     "output_type": "stream",
     "text": [
      "There is no Nan values in our data\n",
      "Looks  we have a a balanced data! GOOD\n"
     ]
    },
    {
     "data": {
      "image/png": "[encoded data removed]",
      "text/plain": [
       "<Figure size 432x288 with 1 Axes>"
      ]
     },
     "metadata": {
      "needs_background": "light"
     },
     "output_type": "display_data"
    }
   ],
   "source": [
    "# Examine Data Class Balance & NAN Values\n",
    "\n",
    "train_data['label'].value_counts().sort_index().plot(kind='bar')\n",
    "nan_value=train_data.isna().sum().sum()+test_data.isna().sum().sum()\n",
    "print(\"There is no Nan values in our data\")\n",
    "print(\"Looks  we have a a balanced data! GOOD\")"
   ]
  },
  {
   "cell_type": "code",
   "execution_count": 4,
   "metadata": {},
   "outputs": [
    {
     "name": "stdout",
     "output_type": "stream",
     "text": [
      "y = 0\n"
     ]
    },
    {
     "data": {
      "image/png": "[encoded data removed]",
      "text/plain": [
       "<Figure size 432x288 with 1 Axes>"
      ]
     },
     "metadata": {
      "needs_background": "light"
     },
     "output_type": "display_data"
    }
   ],
   "source": [
    "#Visualize One Example\n",
    "index=4  \n",
    "a=np.array(train_data.iloc[index,1:]).reshape(28,28,1)\n",
    "plt.imshow(a,cmap='gray')\n",
    "print (\"y = \" + str(train_data.iloc[index, 1]))"
   ]
  },
  {
   "cell_type": "code",
   "execution_count": 5,
   "metadata": {},
   "outputs": [
    {
     "name": "stdout",
     "output_type": "stream",
     "text": [
      "X_train shape: (42000, 28, 28, 1)\n",
      "Y_train shape: (42000, 10)\n",
      "X_test shape: (28000, 28, 28, 1)\n"
     ]
    }
   ],
   "source": [
    "# Reshape  Data\n",
    "\n",
    "n_classes=10\n",
    "#Reshape our input to 3D \n",
    "X_train_=np.array(train_data.drop(columns='label')).reshape(-1,28,28,1)\n",
    "X_test=np.array(test_data).reshape(-1,28,28,1)\n",
    "\n",
    "# One hot Vectorize our target\n",
    "y_train=to_categorical(train_data.label,n_classes)\n",
    "\n",
    "\n",
    "print (\"X_train shape: \" + str(X_train_.shape))\n",
    "print (\"Y_train shape: \" + str(y_train.shape))\n",
    "print (\"X_test shape: \" + str(X_test.shape))\n"
   ]
  },
  {
   "cell_type": "code",
   "execution_count": 6,
   "metadata": {},
   "outputs": [],
   "source": [
    "# Normalization\n",
    "\n",
    "X_train_=X_train_/255.\n",
    "X_test=X_test/255."
   ]
  },
  {
   "cell_type": "code",
   "execution_count": 7,
   "metadata": {},
   "outputs": [],
   "source": [
    "# Isolate some Valid Set\n",
    "\n",
    "X_train, X_val, Y_train, Y_val = train_test_split(X_train_, y_train, test_size = 0.1, random_state=4,stratify = train_data.label)\n",
    "# Stratify to help creating \"Balanced\"  valid dataset"
   ]
  },
  {
   "cell_type": "markdown",
   "metadata": {},
   "source": [
    "## MODEL Definition \n"
   ]
  },
  {
   "cell_type": "markdown",
   "metadata": {},
   "source": [
    "#### Model I \n",
    "LeNet-5 Model ref[1]\n",
    "scored 0.97792 on test data  and scored 0.98821 after data augmnntation"
   ]
  },
  {
   "cell_type": "code",
   "execution_count": 8,
   "metadata": {},
   "outputs": [
    {
     "name": "stdout",
     "output_type": "stream",
     "text": [
      "Model: \"sequential\"\n",
      "_________________________________________________________________\n",
      "Layer (type)                 Output Shape              Param #   \n",
      "=================================================================\n",
      "conv2d (Conv2D)              (None, 24, 24, 6)         156       \n",
      "_________________________________________________________________\n",
      "max_pooling2d (MaxPooling2D) (None, 12, 12, 6)         0         \n",
      "_________________________________________________________________\n",
      "conv2d_1 (Conv2D)            (None, 8, 8, 16)          2416      \n",
      "_________________________________________________________________\n",
      "max_pooling2d_1 (MaxPooling2 (None, 4, 4, 16)          0         \n",
      "_________________________________________________________________\n",
      "flatten (Flatten)            (None, 256)               0         \n",
      "_________________________________________________________________\n",
      "dense (Dense)                (None, 120)               30840     \n",
      "_________________________________________________________________\n",
      "dense_1 (Dense)              (None, 84)                10164     \n",
      "_________________________________________________________________\n",
      "dense_2 (Dense)              (None, 10)                850       \n",
      "=================================================================\n",
      "Total params: 44,426\n",
      "Trainable params: 44,426\n",
      "Non-trainable params: 0\n",
      "_________________________________________________________________\n"
     ]
    }
   ],
   "source": [
    "\n",
    "model1=models.Sequential()\n",
    "model1.add(Conv2D(filters=6,kernel_size=(5,5),activation='relu',input_shape=(28,28,1)))\n",
    "model1.add(MaxPool2D(pool_size=(2,2),strides=2))\n",
    "model1.add(Conv2D(filters=16,kernel_size=(5,5),activation='relu'))\n",
    "model1.add(MaxPool2D(pool_size=(2,2),strides=2))\n",
    "model1.add(Flatten())\n",
    "model1.add(Dense(120, activation = \"relu\"))\n",
    "model1.add(Dense(84, activation = \"relu\"))\n",
    "model1.add(Dense(10, activation = \"softmax\"))\n",
    "model1.summary()"
   ]
  },
  {
   "cell_type": "markdown",
   "metadata": {},
   "source": [
    "#### Model II (880K parameters)\n",
    "This CNN architectire originated from paper ref [2] and implemented on notebook[3]\n",
    "\n",
    "scored 0.99228 on test data"
   ]
  },
  {
   "cell_type": "code",
   "execution_count": 9,
   "metadata": {},
   "outputs": [
    {
     "name": "stdout",
     "output_type": "stream",
     "text": [
      "Model: \"sequential_1\"\n",
      "_________________________________________________________________\n",
      "Layer (type)                 Output Shape              Param #   \n",
      "=================================================================\n",
      "conv2d_2 (Conv2D)            (None, 28, 28, 32)        832       \n",
      "_________________________________________________________________\n",
      "conv2d_3 (Conv2D)            (None, 28, 28, 32)        25632     \n",
      "_________________________________________________________________\n",
      "max_pooling2d_2 (MaxPooling2 (None, 14, 14, 32)        0         \n",
      "_________________________________________________________________\n",
      "dropout (Dropout)            (None, 14, 14, 32)        0         \n",
      "_________________________________________________________________\n",
      "conv2d_4 (Conv2D)            (None, 14, 14, 64)        18496     \n",
      "_________________________________________________________________\n",
      "conv2d_5 (Conv2D)            (None, 14, 14, 64)        36928     \n",
      "_________________________________________________________________\n",
      "max_pooling2d_3 (MaxPooling2 (None, 7, 7, 64)          0         \n",
      "_________________________________________________________________\n",
      "dropout_1 (Dropout)          (None, 7, 7, 64)          0         \n",
      "_________________________________________________________________\n",
      "flatten_1 (Flatten)          (None, 3136)              0         \n",
      "_________________________________________________________________\n",
      "dense_3 (Dense)              (None, 256)               803072    \n",
      "_________________________________________________________________\n",
      "dropout_2 (Dropout)          (None, 256)               0         \n",
      "_________________________________________________________________\n",
      "dense_4 (Dense)              (None, 10)                2570      \n",
      "=================================================================\n",
      "Total params: 887,530\n",
      "Trainable params: 887,530\n",
      "Non-trainable params: 0\n",
      "_________________________________________________________________\n"
     ]
    }
   ],
   "source": [
    "\n",
    "\n",
    "model2 = models.Sequential()\n",
    "\n",
    "model2.add(Conv2D(filters = 32, kernel_size = (5,5),padding = 'Same', \n",
    "                 activation ='relu', input_shape = (28,28,1)))\n",
    "model2.add(Conv2D(filters = 32, kernel_size = (5,5),padding = 'Same', \n",
    "                 activation ='relu'))\n",
    "model2.add(MaxPool2D(pool_size=(2,2)))\n",
    "model2.add(Dropout(0.25))\n",
    "\n",
    "\n",
    "model2.add(Conv2D(filters = 64, kernel_size = (3,3),padding = 'Same', \n",
    "                 activation ='relu'))\n",
    "model2.add(Conv2D(filters = 64, kernel_size = (3,3),padding = 'Same', \n",
    "                 activation ='relu'))\n",
    "model2.add(MaxPool2D(pool_size=(2,2), strides=(2,2)))\n",
    "model2.add(Dropout(0.25))\n",
    "\n",
    "\n",
    "model2.add(Flatten())\n",
    "model2.add(Dense(256, activation = \"relu\"))\n",
    "model2.add(Dropout(0.5))\n",
    "model2.add(Dense(10, activation = \"softmax\"))\n",
    "model2.summary()"
   ]
  },
  {
   "cell_type": "markdown",
   "metadata": {},
   "source": [
    "#### ModelIII ref[4]\n",
    "This model is a modified version of the last model and achieved the highest performance of  0.99403  on test data \n",
    "\n",
    "\n",
    "Modifications:\n",
    "\n",
    "1- Used two CNN layers of (3,3) Kernals instead of one layer (5,5)\n",
    "\n",
    "2- Used Strides of (2,2) as subsamling instead of PoolMAx Layers so mre parameterd to learn\n",
    "\n",
    "3- USed Batch Normalization "
   ]
  },
  {
   "cell_type": "code",
   "execution_count": 10,
   "metadata": {},
   "outputs": [
    {
     "name": "stdout",
     "output_type": "stream",
     "text": [
      "Model: \"sequential_2\"\n",
      "_________________________________________________________________\n",
      "Layer (type)                 Output Shape              Param #   \n",
      "=================================================================\n",
      "conv2d_6 (Conv2D)            (None, 26, 26, 32)        320       \n",
      "_________________________________________________________________\n",
      "batch_normalization (BatchNo (None, 26, 26, 32)        128       \n",
      "_________________________________________________________________\n",
      "conv2d_7 (Conv2D)            (None, 24, 24, 32)        9248      \n",
      "_________________________________________________________________\n",
      "batch_normalization_1 (Batch (None, 24, 24, 32)        128       \n",
      "_________________________________________________________________\n",
      "conv2d_8 (Conv2D)            (None, 12, 12, 32)        25632     \n",
      "_________________________________________________________________\n",
      "batch_normalization_2 (Batch (None, 12, 12, 32)        128       \n",
      "_________________________________________________________________\n",
      "dropout_3 (Dropout)          (None, 12, 12, 32)        0         \n",
      "_________________________________________________________________\n",
      "conv2d_9 (Conv2D)            (None, 10, 10, 64)        18496     \n",
      "_________________________________________________________________\n",
      "batch_normalization_3 (Batch (None, 10, 10, 64)        256       \n",
      "_________________________________________________________________\n",
      "conv2d_10 (Conv2D)           (None, 8, 8, 64)          36928     \n",
      "_________________________________________________________________\n",
      "batch_normalization_4 (Batch (None, 8, 8, 64)          256       \n",
      "_________________________________________________________________\n",
      "conv2d_11 (Conv2D)           (None, 4, 4, 64)          102464    \n",
      "_________________________________________________________________\n",
      "batch_normalization_5 (Batch (None, 4, 4, 64)          256       \n",
      "_________________________________________________________________\n",
      "dropout_4 (Dropout)          (None, 4, 4, 64)          0         \n",
      "_________________________________________________________________\n",
      "flatten_2 (Flatten)          (None, 1024)              0         \n",
      "_________________________________________________________________\n",
      "dense_5 (Dense)              (None, 128)               131200    \n",
      "_________________________________________________________________\n",
      "dropout_5 (Dropout)          (None, 128)               0         \n",
      "_________________________________________________________________\n",
      "dense_6 (Dense)              (None, 10)                1290      \n",
      "=================================================================\n",
      "Total params: 326,730\n",
      "Trainable params: 326,154\n",
      "Non-trainable params: 576\n",
      "_________________________________________________________________\n"
     ]
    }
   ],
   "source": [
    "\n",
    "model3 = models.Sequential()\n",
    "\n",
    "model3.add(Conv2D(filters = 32, kernel_size = (3,3),\n",
    "                 activation ='relu', input_shape = (28,28,1)))\n",
    "model3.add(BatchNormalization())\n",
    "\n",
    "model3.add(Conv2D(filters = 32, kernel_size = (3,3),\n",
    "                 activation ='relu'))\n",
    "model3.add(BatchNormalization())\n",
    "\n",
    "model3.add(Conv2D(filters = 32, kernel_size = (5,5),padding = 'Same' ,strides=(2,2),activation ='relu'))\n",
    "           \n",
    "model3.add(BatchNormalization())\n",
    "model3.add(Dropout(0.25))\n",
    "\n",
    "\n",
    "model3.add(Conv2D(filters = 64, kernel_size = (3,3),\n",
    "                 activation ='relu'))\n",
    "model3.add(BatchNormalization())\n",
    "\n",
    "model3.add(Conv2D(filters = 64, kernel_size = (3,3),\n",
    "                 activation ='relu'))\n",
    "model3.add(BatchNormalization())\n",
    "\n",
    "model3.add(Conv2D(filters = 64, kernel_size = (5,5),padding = 'Same', strides=(2,2),\n",
    "                 activation ='relu'))\n",
    "model3.add(BatchNormalization())\n",
    "model3.add(Dropout(0.25))\n",
    "\n",
    "\n",
    "model3.add(Flatten())\n",
    "model3.add(Dense(128, activation = \"relu\"))\n",
    "model3.add(Dropout(0.5))\n",
    "model3.add(Dense(10, activation = \"softmax\"))\n",
    "model3.summary()\n"
   ]
  },
  {
   "cell_type": "markdown",
   "metadata": {},
   "source": [
    "## Data Augmentation "
   ]
  },
  {
   "cell_type": "code",
   "execution_count": 11,
   "metadata": {},
   "outputs": [],
   "source": [
    "datagen = ImageDataGenerator(\n",
    "        rotation_range=10,  # randomly rotate images in the range (degrees, 0 to 180)\n",
    "        zoom_range = 0.1, # Randomly zoom image \n",
    "        width_shift_range=0.1,  # randomly shift images horizontally (fraction of total width)\n",
    "        height_shift_range=0.1,  # randomly shift images vertically (fraction of total height)\n",
    ")\n",
    "\n",
    "\n",
    "datagen.fit(X_train)"
   ]
  },
  {
   "cell_type": "markdown",
   "metadata": {},
   "source": [
    "## Training Third Model"
   ]
  },
  {
   "cell_type": "code",
   "execution_count": 12,
   "metadata": {},
   "outputs": [],
   "source": [
    "# Stop Training when the quantity monitored \"val_accuracy\" stopped decreasing  for 5 consequitve epochs\n",
    "callback1 = EarlyStopping(monitor='loss', patience=5)\n",
    "\n",
    "# Save the best weights after each epochs \n",
    "# Actually My laptop has no battaery so to save the progress if something TERRIBLE happened \n",
    "filepath=\"weights-improvement-{epoch:02d}-{val_accuracy:.2f}.hdf5\"\n",
    "callback2 = ModelCheckpoint(filepath, monitor='val_accuracy', verbose=1, save_best_only=True, mode='max')\n",
    "\n",
    "\n",
    "callbacklist=[callback1, callback2]\n"
   ]
  },
  {
   "cell_type": "code",
   "execution_count": 13,
   "metadata": {},
   "outputs": [
    {
     "name": "stdout",
     "output_type": "stream",
     "text": [
      "Epoch 1/30\n",
      "440/440 [==============================] - ETA: 0s - loss: 1.5231 - accuracy: 0.5321\n",
      "Epoch 00001: val_accuracy improved from -inf to 0.67643, saving model to weights-improvement-01-0.68.hdf5\n",
      "440/440 [==============================] - 161s 365ms/step - loss: 1.5231 - accuracy: 0.5321 - val_loss: 0.9486 - val_accuracy: 0.6764\n",
      "Epoch 2/30\n",
      "440/440 [==============================] - ETA: 0s - loss: 0.4213 - accuracy: 0.8674\n",
      "Epoch 00002: val_accuracy improved from 0.67643 to 0.97238, saving model to weights-improvement-02-0.97.hdf5\n",
      "440/440 [==============================] - 158s 359ms/step - loss: 0.4213 - accuracy: 0.8674 - val_loss: 0.0835 - val_accuracy: 0.9724\n",
      "Epoch 3/30\n",
      "440/440 [==============================] - ETA: 0s - loss: 0.2405 - accuracy: 0.9269\n",
      "Epoch 00003: val_accuracy improved from 0.97238 to 0.97690, saving model to weights-improvement-03-0.98.hdf5\n",
      "440/440 [==============================] - 159s 361ms/step - loss: 0.2405 - accuracy: 0.9269 - val_loss: 0.0683 - val_accuracy: 0.9769\n",
      "Epoch 4/30\n",
      "440/440 [==============================] - ETA: 0s - loss: 0.1761 - accuracy: 0.9465\n",
      "Epoch 00004: val_accuracy improved from 0.97690 to 0.98024, saving model to weights-improvement-04-0.98.hdf5\n",
      "440/440 [==============================] - 159s 360ms/step - loss: 0.1761 - accuracy: 0.9465 - val_loss: 0.0628 - val_accuracy: 0.9802\n",
      "Epoch 5/30\n",
      "440/440 [==============================] - ETA: 0s - loss: 0.1410 - accuracy: 0.9591\n",
      "Epoch 00005: val_accuracy improved from 0.98024 to 0.98833, saving model to weights-improvement-05-0.99.hdf5\n",
      "440/440 [==============================] - 162s 368ms/step - loss: 0.1410 - accuracy: 0.9591 - val_loss: 0.0386 - val_accuracy: 0.9883\n",
      "Epoch 6/30\n",
      "440/440 [==============================] - ETA: 0s - loss: 0.1219 - accuracy: 0.9646\n",
      "Epoch 00006: val_accuracy did not improve from 0.98833\n",
      "440/440 [==============================] - 176s 401ms/step - loss: 0.1219 - accuracy: 0.9646 - val_loss: 0.0411 - val_accuracy: 0.9874\n",
      "Epoch 7/30\n",
      "440/440 [==============================] - ETA: 0s - loss: 0.1053 - accuracy: 0.9684\n",
      "Epoch 00007: val_accuracy did not improve from 0.98833\n",
      "440/440 [==============================] - 177s 401ms/step - loss: 0.1053 - accuracy: 0.9684 - val_loss: 0.0433 - val_accuracy: 0.9855\n",
      "Epoch 8/30\n",
      "440/440 [==============================] - ETA: 0s - loss: 0.0980 - accuracy: 0.9719\n",
      "Epoch 00008: val_accuracy did not improve from 0.98833\n",
      "440/440 [==============================] - 174s 396ms/step - loss: 0.0980 - accuracy: 0.9719 - val_loss: 0.0377 - val_accuracy: 0.9874\n",
      "Epoch 9/30\n",
      "440/440 [==============================] - ETA: 0s - loss: 0.0859 - accuracy: 0.9754\n",
      "Epoch 00009: val_accuracy did not improve from 0.98833\n",
      "440/440 [==============================] - 174s 396ms/step - loss: 0.0859 - accuracy: 0.9754 - val_loss: 0.0383 - val_accuracy: 0.9874\n",
      "Epoch 10/30\n",
      "440/440 [==============================] - ETA: 0s - loss: 0.0827 - accuracy: 0.9766\n",
      "Epoch 00010: val_accuracy improved from 0.98833 to 0.99024, saving model to weights-improvement-10-0.99.hdf5\n",
      "440/440 [==============================] - 174s 396ms/step - loss: 0.0827 - accuracy: 0.9766 - val_loss: 0.0335 - val_accuracy: 0.9902\n",
      "Epoch 11/30\n",
      "440/440 [==============================] - ETA: 0s - loss: 0.0763 - accuracy: 0.9773\n",
      "Epoch 00011: val_accuracy did not improve from 0.99024\n",
      "440/440 [==============================] - 172s 391ms/step - loss: 0.0763 - accuracy: 0.9773 - val_loss: 0.0363 - val_accuracy: 0.9900\n",
      "Epoch 12/30\n",
      "440/440 [==============================] - ETA: 0s - loss: 0.0745 - accuracy: 0.9790\n",
      "Epoch 00012: val_accuracy improved from 0.99024 to 0.99071, saving model to weights-improvement-12-0.99.hdf5\n",
      "440/440 [==============================] - 177s 403ms/step - loss: 0.0745 - accuracy: 0.9790 - val_loss: 0.0338 - val_accuracy: 0.9907\n",
      "Epoch 13/30\n",
      "440/440 [==============================] - ETA: 0s - loss: 0.0706 - accuracy: 0.9803\n",
      "Epoch 00013: val_accuracy improved from 0.99071 to 0.99214, saving model to weights-improvement-13-0.99.hdf5\n",
      "440/440 [==============================] - 173s 394ms/step - loss: 0.0706 - accuracy: 0.9803 - val_loss: 0.0271 - val_accuracy: 0.9921\n",
      "Epoch 14/30\n",
      "440/440 [==============================] - ETA: 0s - loss: 0.0663 - accuracy: 0.9812\n",
      "Epoch 00014: val_accuracy did not improve from 0.99214\n",
      "440/440 [==============================] - 175s 398ms/step - loss: 0.0663 - accuracy: 0.9812 - val_loss: 0.0331 - val_accuracy: 0.9902\n",
      "Epoch 15/30\n",
      "440/440 [==============================] - ETA: 0s - loss: 0.0650 - accuracy: 0.9813\n",
      "Epoch 00015: val_accuracy did not improve from 0.99214\n",
      "440/440 [==============================] - 175s 398ms/step - loss: 0.0650 - accuracy: 0.9813 - val_loss: 0.0313 - val_accuracy: 0.9905\n",
      "Epoch 16/30\n",
      "440/440 [==============================] - ETA: 0s - loss: 0.0633 - accuracy: 0.9824\n",
      "Epoch 00016: val_accuracy did not improve from 0.99214\n",
      "440/440 [==============================] - 192s 436ms/step - loss: 0.0633 - accuracy: 0.9824 - val_loss: 0.0314 - val_accuracy: 0.9898\n",
      "Epoch 17/30\n",
      "440/440 [==============================] - ETA: 0s - loss: 0.0583 - accuracy: 0.9837\n",
      "Epoch 00017: val_accuracy did not improve from 0.99214\n",
      "440/440 [==============================] - 183s 416ms/step - loss: 0.0583 - accuracy: 0.9837 - val_loss: 0.0287 - val_accuracy: 0.9907\n",
      "Epoch 18/30\n",
      "440/440 [==============================] - ETA: 0s - loss: 0.0584 - accuracy: 0.9830\n",
      "Epoch 00018: val_accuracy did not improve from 0.99214\n",
      "440/440 [==============================] - 176s 400ms/step - loss: 0.0584 - accuracy: 0.9830 - val_loss: 0.0365 - val_accuracy: 0.9907\n",
      "Epoch 19/30\n",
      "440/440 [==============================] - ETA: 0s - loss: 0.0586 - accuracy: 0.9839\n",
      "Epoch 00019: val_accuracy did not improve from 0.99214\n",
      "440/440 [==============================] - 171s 389ms/step - loss: 0.0586 - accuracy: 0.9839 - val_loss: 0.0289 - val_accuracy: 0.9907\n",
      "Epoch 20/30\n",
      "440/440 [==============================] - ETA: 0s - loss: 0.0551 - accuracy: 0.9846\n",
      "Epoch 00020: val_accuracy did not improve from 0.99214\n",
      "440/440 [==============================] - 168s 383ms/step - loss: 0.0551 - accuracy: 0.9846 - val_loss: 0.0298 - val_accuracy: 0.9919\n",
      "Epoch 21/30\n",
      "440/440 [==============================] - ETA: 0s - loss: 0.0514 - accuracy: 0.9854\n",
      "Epoch 00021: val_accuracy did not improve from 0.99214\n",
      "440/440 [==============================] - 168s 382ms/step - loss: 0.0514 - accuracy: 0.9854 - val_loss: 0.0303 - val_accuracy: 0.9914\n",
      "Epoch 22/30\n",
      "440/440 [==============================] - ETA: 0s - loss: 0.0519 - accuracy: 0.9863\n",
      "Epoch 00022: val_accuracy did not improve from 0.99214\n",
      "440/440 [==============================] - 170s 385ms/step - loss: 0.0519 - accuracy: 0.9863 - val_loss: 0.0275 - val_accuracy: 0.9914\n",
      "Epoch 23/30\n",
      "440/440 [==============================] - ETA: 0s - loss: 0.0550 - accuracy: 0.9849\n",
      "Epoch 00023: val_accuracy did not improve from 0.99214\n",
      "440/440 [==============================] - 174s 395ms/step - loss: 0.0550 - accuracy: 0.9849 - val_loss: 0.0342 - val_accuracy: 0.9910\n",
      "Epoch 24/30\n",
      "440/440 [==============================] - ETA: 0s - loss: 0.0503 - accuracy: 0.9862\n",
      "Epoch 00024: val_accuracy did not improve from 0.99214\n",
      "440/440 [==============================] - 173s 393ms/step - loss: 0.0503 - accuracy: 0.9862 - val_loss: 0.0313 - val_accuracy: 0.9914\n",
      "Epoch 25/30\n",
      "440/440 [==============================] - ETA: 0s - loss: 0.0479 - accuracy: 0.9870\n",
      "Epoch 00025: val_accuracy did not improve from 0.99214\n",
      "440/440 [==============================] - 173s 393ms/step - loss: 0.0479 - accuracy: 0.9870 - val_loss: 0.0275 - val_accuracy: 0.9919\n",
      "Epoch 26/30\n",
      "440/440 [==============================] - ETA: 0s - loss: 0.0453 - accuracy: 0.9874\n",
      "Epoch 00026: val_accuracy improved from 0.99214 to 0.99238, saving model to weights-improvement-26-0.99.hdf5\n",
      "440/440 [==============================] - 179s 407ms/step - loss: 0.0453 - accuracy: 0.9874 - val_loss: 0.0272 - val_accuracy: 0.9924\n",
      "Epoch 27/30\n",
      "440/440 [==============================] - ETA: 0s - loss: 0.0479 - accuracy: 0.9874\n",
      "Epoch 00027: val_accuracy improved from 0.99238 to 0.99262, saving model to weights-improvement-27-0.99.hdf5\n",
      "440/440 [==============================] - 160s 363ms/step - loss: 0.0479 - accuracy: 0.9874 - val_loss: 0.0309 - val_accuracy: 0.9926\n"
     ]
    },
    {
     "name": "stdout",
     "output_type": "stream",
     "text": [
      "Epoch 28/30\n",
      "440/440 [==============================] - ETA: 0s - loss: 0.0470 - accuracy: 0.9873\n",
      "Epoch 00028: val_accuracy did not improve from 0.99262\n",
      "440/440 [==============================] - 158s 360ms/step - loss: 0.0470 - accuracy: 0.9873 - val_loss: 0.0275 - val_accuracy: 0.9914\n",
      "Epoch 29/30\n",
      "440/440 [==============================] - ETA: 0s - loss: 0.0421 - accuracy: 0.9884\n",
      "Epoch 00029: val_accuracy did not improve from 0.99262\n",
      "440/440 [==============================] - 157s 357ms/step - loss: 0.0421 - accuracy: 0.9884 - val_loss: 0.0398 - val_accuracy: 0.9907\n",
      "Epoch 30/30\n",
      "440/440 [==============================] - ETA: 0s - loss: 0.0446 - accuracy: 0.9879\n",
      "Epoch 00030: val_accuracy did not improve from 0.99262\n",
      "440/440 [==============================] - 157s 357ms/step - loss: 0.0446 - accuracy: 0.9879 - val_loss: 0.0355 - val_accuracy: 0.9905\n"
     ]
    }
   ],
   "source": [
    "optimizer = RMSprop(lr=0.0001, rho=0.9, epsilon=1e-08, decay=0.0)\n",
    "n_epochs=30\n",
    "\n",
    "model3.compile(optimizer=optimizer,\n",
    "              loss=tf.keras.losses.CategoricalCrossentropy(from_logits=False),\n",
    "              metrics=['accuracy'])\n",
    "history = model3.fit(datagen.flow(X_train,Y_train, batch_size=86),\n",
    "                              epochs =n_epochs , validation_data = (X_val,Y_val),callbacks=callbacklist)"
   ]
  },
  {
   "cell_type": "code",
   "execution_count": null,
   "metadata": {},
   "outputs": [],
   "source": [
    "## Load best weights to model \n",
    "#model3.load_weights(\"weights-improvement-11-0.99.hdf5\")\n"
   ]
  },
  {
   "cell_type": "markdown",
   "metadata": {},
   "source": [
    "### Model Evaluation"
   ]
  },
  {
   "cell_type": "code",
   "execution_count": 14,
   "metadata": {},
   "outputs": [
    {
     "data": {
      "text/plain": [
       "<AxesSubplot:>"
      ]
     },
     "execution_count": 14,
     "metadata": {},
     "output_type": "execute_result"
    },
    {
     "data": {
      "image/png": "[encoded data removed]",
      "text/plain": [
       "<Figure size 432x288 with 2 Axes>"
      ]
     },
     "metadata": {
      "needs_background": "light"
     },
     "output_type": "display_data"
    }
   ],
   "source": [
    "# Let's Build the confusion Matrix so give us indication about the points where the model fails\n",
    "\n",
    "Y_true = np.argmax(Y_val,axis = 1) \n",
    "pred_val_=np.argmax(model3.predict(X_val),axis=1)\n",
    "conf_matrix= confusion_matrix(Y_true,pred_val_)\n",
    "sns.heatmap(conf_matrix, annot=True, fmt='d')\n"
   ]
  },
  {
   "cell_type": "code",
   "execution_count": 18,
   "metadata": {},
   "outputs": [
    {
     "name": "stdout",
     "output_type": "stream",
     "text": [
      "from the confusion matrix Above.. the most misclafied label is 4 and it is classfied as 9, The only digit that has accuracy of 100% is number 6\n"
     ]
    }
   ],
   "source": [
    "# Observation from the confusion Matrix \n",
    "print(\"from the confusion matrix Above.. the most misclafied label is 4 and it is classfied as 9, The only digit that has accuracy of 100% is number 6\")\n"
   ]
  },
  {
   "cell_type": "code",
   "execution_count": 16,
   "metadata": {},
   "outputs": [
    {
     "data": {
      "text/plain": [
       "Text(0.5, 1.0, 'accuracy vs iterations ')"
      ]
     },
     "execution_count": 16,
     "metadata": {},
     "output_type": "execute_result"
    },
    {
     "data": {
      "image/png": "[encoded data removed]",
      "text/plain": [
       "<Figure size 432x288 with 1 Axes>"
      ]
     },
     "metadata": {
      "needs_background": "light"
     },
     "output_type": "display_data"
    }
   ],
   "source": [
    "# accuracy vs iterations Plot\n",
    "plt.plot(history.history[\"accuracy\"])\n",
    "plt.xlabel(\"number of Iterations\")\n",
    "plt.ylabel(\"accuracy\")\n",
    "plt.title(\"accuracy vs iterations \")"
   ]
  },
  {
   "cell_type": "markdown",
   "metadata": {},
   "source": [
    "#### Submitting To Kaggle "
   ]
  },
  {
   "cell_type": "code",
   "execution_count": 17,
   "metadata": {},
   "outputs": [],
   "source": [
    "y_pred=model3.predict(X_test)\n",
    "y_pred_final=[]\n",
    "for i in range(len(X_test)):\n",
    "    y_pred_final.append(y_pred[i,:].argmax())\n",
    "    \n",
    "sub=pd.DataFrame({\"Label\":y_pred_final},dtype=np.int64)\n",
    "sub.index=pd.RangeIndex(start=1, stop=28001, step=1)\n",
    "sub.index.rename(\"ImageId\",inplace=True)\n",
    "sub.to_csv(\"sub.csv\",index=True)"
   ]
  },
  {
   "cell_type": "markdown",
   "metadata": {},
   "source": [
    "#### References :\n",
    "[1]LeCun et all., 1998.Gradient-Based Learning applied to document recognition\n",
    "[2] Siddique, Fathma & Sakib, Shadman & Siddique, Md. Abu. (2019). Recognition of Handwritten Digit using Convolutional Neural Network in Python with Tensorflow and Comparison of Performance for Various Hidden Layers. 10.20944/preprints201903.0039.v2. \n",
    "[3] https://www.kaggle.com/yassineghouzam/introduction-to-cnn-keras-0-997-top-6#2.-Data-preparation\n",
    "[4] https://www.kaggle.com/cdeotte/how-to-choose-cnn-architecture-mnist\n",
    "\n"
   ]
  }
 ],
 "metadata": {
  "kernelspec": {
   "display_name": "Python 3",
   "language": "python",
   "name": "python3"
  },
  "language_info": {
   "codemirror_mode": {
    "name": "ipython",
    "version": 3
   },
   "file_extension": ".py",
   "mimetype": "text/x-python",
   "name": "python",
   "nbconvert_exporter": "python",
   "pygments_lexer": "ipython3",
   "version": "3.8.6rc1"
  }
 },
 "nbformat": 4,
 "nbformat_minor": 4
}
